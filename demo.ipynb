{
  "cells": [
    {
      "cell_type": "markdown",
      "metadata": {
        "id": "S0JZf9MVO7xp"
      },
      "source": [
        "# Multimodal LLMs with Database Constrained Decoding for Recycling Classification\n",
        "\n",
        "This is the Google Colab notebook accompanying the repo https://github.com/acluous/recycling-database-constrained-decoding.git."
      ]
    },
    {
      "cell_type": "markdown",
      "metadata": {
        "id": "91y075AybP0A"
      },
      "source": [
        "**Clone repo and install requirements**"
      ]
    },
    {
      "cell_type": "code",
      "execution_count": null,
      "metadata": {
        "id": "7BekDdbNagLs"
      },
      "outputs": [],
      "source": [
        "FOLDER_ROOT = \"/content/recycling-database-constrained-decoding\"\n",
        "!git clone https://github.com/acluous/recycling-database-constrained-decoding.git\n",
        "!git clone https://huggingface.co/datasets/acluous/waste-wizard-materials-list\n",
        "!pip install -r {FOLDER_ROOT}/requirements.txt"
      ]
    },
    {
      "cell_type": "markdown",
      "metadata": {
        "id": "NzD5RiH6bNXs"
      },
      "source": [
        "**Restart runtime and load model**\n",
        "\n",
        "Make sure to select Runtime > Change runtime type > T4 GPU."
      ]
    },
    {
      "cell_type": "code",
      "execution_count": 2,
      "metadata": {
        "id": "IyBb7tQ0bUN_"
      },
      "outputs": [],
      "source": [
        "from collections import OrderedDict\n",
        "import requests\n",
        "import json\n",
        "import numpy as np\n",
        "from PIL import Image\n",
        "import torch\n",
        "from tqdm import tqdm\n",
        "\n",
        "from transformers import AutoProcessor, AutoModelForVision2Seq, AutoModel, BitsAndBytesConfig\n",
        "from datasets import load_dataset\n",
        "\n",
        "import sys\n",
        "FOLDER_ROOT = \"/content/recycling-database-constrained-decoding\"\n",
        "sys.path.append(FOLDER_ROOT)\n",
        "import decoding_utils\n",
        "\n",
        "# load in 4bit to reduce memory consumption\n",
        "quantization_config = BitsAndBytesConfig(\n",
        "    load_in_4bit=True,\n",
        "    bnb_4bit_quant_type=\"nf4\",\n",
        "    bnb_4bit_use_double_quant=True,\n",
        "    bnb_4bit_compute_dtype=torch.float16\n",
        ")"
      ]
    },
    {
      "cell_type": "markdown",
      "metadata": {
        "id": "GunP9PmEWhcV"
      },
      "source": [
        "**Load Waste Wizard Dataset**"
      ]
    },
    {
      "cell_type": "code",
      "execution_count": 39,
      "metadata": {
        "colab": {
          "base_uri": "https://localhost:8080/"
        },
        "id": "3aXFM9aHRSy8",
        "outputId": "e4911445-7d6d-4d13-cf70-09894754b4be"
      },
      "outputs": [
        {
          "output_type": "stream",
          "name": "stderr",
          "text": [
            "Using the latest cached version of the dataset since acluous/waste-wizard-materials-list couldn't be found on the Hugging Face Hub\n",
            "WARNING:datasets.load:Using the latest cached version of the dataset since acluous/waste-wizard-materials-list couldn't be found on the Hugging Face Hub\n",
            "Found the latest cached dataset configuration 'default' at /root/.cache/huggingface/datasets/acluous___waste-wizard-materials-list/default/0.0.0/ecb0cc3995fa35fbb6c50cd5d3d8aa144ae06bae (last modified on Tue Jun 18 04:48:28 2024).\n",
            "WARNING:datasets.packaged_modules.cache.cache:Found the latest cached dataset configuration 'default' at /root/.cache/huggingface/datasets/acluous___waste-wizard-materials-list/default/0.0.0/ecb0cc3995fa35fbb6c50cd5d3d8aa144ae06bae (last modified on Tue Jun 18 04:48:28 2024).\n"
          ]
        }
      ],
      "source": [
        "image_dataset = load_dataset(\"acluous/waste-wizard-materials-list\")['train']\n",
        "\n",
        "# change city_name to whatever city you want to evaluate next\n",
        "# [\"toy\", \"davis\", \"mountain-view\", \"waverley\", \"waterloo\"]\n",
        "city_name = \"mountain-view\"\n",
        "image_labels_file = f\"/content/waste-wizard-materials-list/data/image-labels/{city_name}.json\"\n",
        "city_database_file = f\"/content/waste-wizard-materials-list/data/city-databases/{city_name}.json\"\n",
        "\n",
        "query = \"What is this item?\"\n",
        "if city_name == \"toy\":\n",
        "  database = json.load(open(city_database_file))\n",
        "else:\n",
        "  database = [ann[\"text\"].title().strip() for ann in json.load(open(city_database_file))]\n",
        "image_labels_map = json.load(open(image_labels_file))"
      ]
    },
    {
      "cell_type": "markdown",
      "metadata": {
        "id": "YwsRJuktQdqf"
      },
      "source": [
        "**Load Idefics2**"
      ]
    },
    {
      "cell_type": "code",
      "execution_count": null,
      "metadata": {
        "id": "e9iP-6V8QbmY"
      },
      "outputs": [],
      "source": [
        "model_id = \"HuggingFaceM4/idefics2-8b\"\n",
        "processor = AutoProcessor.from_pretrained(\n",
        "    model_id,\n",
        "    do_image_splitting=False\n",
        ")\n",
        "model = AutoModelForVision2Seq.from_pretrained(\n",
        "    model_id,\n",
        "    torch_dtype=torch.float16,\n",
        "    quantization_config=quantization_config,\n",
        ")"
      ]
    },
    {
      "cell_type": "markdown",
      "metadata": {
        "id": "aOz3iQWHUpFh"
      },
      "source": [
        "Run Database Constrained Decoding"
      ]
    },
    {
      "cell_type": "code",
      "execution_count": 40,
      "metadata": {
        "colab": {
          "base_uri": "https://localhost:8080/"
        },
        "id": "pLfav3BGRPtN",
        "outputId": "c2519735-0bbf-4558-8215-5de172e4a4dd"
      },
      "outputs": [
        {
          "output_type": "stream",
          "name": "stderr",
          "text": [
            "100%|██████████| 100/100 [05:50<00:00,  3.51s/it]\n"
          ]
        },
        {
          "output_type": "stream",
          "name": "stdout",
          "text": [
            "Classification Accuracy, Idefics2 - Database Constrained Decoding 0.62\n"
          ]
        }
      ],
      "source": [
        "preds, labels, all_database_chosen = decoding_utils.mllm_classification(model, processor, image_dataset, database, query, mode=\"dcd\")\n",
        "acc = decoding_utils.get_accuracy(preds, labels, image_labels_map)\n",
        "print(\"Classification Accuracy, Idefics2 - Database Constrained Decoding\", acc)"
      ]
    },
    {
      "cell_type": "markdown",
      "metadata": {
        "id": "2PazkBgJVXp8"
      },
      "source": [
        "Run Normalized Sequence Likelihood"
      ]
    },
    {
      "cell_type": "code",
      "execution_count": null,
      "metadata": {
        "id": "8SByIja2VWXU"
      },
      "outputs": [],
      "source": [
        "if city_name != \"toy\":\n",
        "  print(\"Warning: NSL will take a very long time to run on this database. Switch to the toy database instead.\")\n",
        "preds, labels, all_database_chosen = decoding_utils.mllm_classification(model, processor, image_dataset, database, query, mode=\"nsl\")\n",
        "acc = decoding_utils.get_accuracy(preds, labels, image_labels_map)\n",
        "print(\"Classification Accuracy, Idefics2 - Normalized Sequence Likelihood\", acc)"
      ]
    },
    {
      "cell_type": "markdown",
      "metadata": {
        "id": "NAGxQXLnUFBW"
      },
      "source": [
        "**Load OpenCLIP**"
      ]
    },
    {
      "cell_type": "code",
      "execution_count": 31,
      "metadata": {
        "colab": {
          "base_uri": "https://localhost:8080/"
        },
        "id": "eD6Srx05UFlD",
        "outputId": "43dcdb8b-7212-4749-dae8-863af52f6f8d"
      },
      "outputs": [
        {
          "output_type": "stream",
          "name": "stderr",
          "text": [
            "`low_cpu_mem_usage` was None, now set to True since model is quantized.\n"
          ]
        }
      ],
      "source": [
        "clip_id = \"laion/CLIP-ViT-B-32-laion2B-s34B-b79K\"\n",
        "clip_processor = AutoProcessor.from_pretrained(clip_id)\n",
        "clip_model = AutoModel.from_pretrained(\n",
        "    clip_id,\n",
        "    torch_dtype=torch.float16,\n",
        "    quantization_config=quantization_config\n",
        ")"
      ]
    },
    {
      "cell_type": "markdown",
      "metadata": {
        "id": "a6lMV6zdW6LM"
      },
      "source": [
        "Run Contrastive Classification"
      ]
    },
    {
      "cell_type": "code",
      "execution_count": 41,
      "metadata": {
        "colab": {
          "base_uri": "https://localhost:8080/"
        },
        "id": "rqn1JUYzVf7_",
        "outputId": "622cd5df-19bb-4334-97fa-f7e203b15295"
      },
      "outputs": [
        {
          "output_type": "stream",
          "name": "stderr",
          "text": [
            "100%|██████████| 100/100 [00:04<00:00, 21.11it/s]\n",
            "100%|██████████| 470/470 [00:14<00:00, 32.22it/s]\n",
            "100%|██████████| 100/100 [00:00<00:00, 13300.89it/s]\n"
          ]
        },
        {
          "output_type": "stream",
          "name": "stdout",
          "text": [
            "Classification Accuracy, OpenCLIP 0.53\n"
          ]
        }
      ],
      "source": [
        "preds, labels, all_database_chosen = decoding_utils.contrastive_classification(clip_model, clip_processor, image_dataset, database)\n",
        "acc = decoding_utils.get_accuracy(preds, labels, image_labels_map)\n",
        "print(\"Classification Accuracy, OpenCLIP\", acc)"
      ]
    }
  ],
  "metadata": {
    "accelerator": "GPU",
    "colab": {
      "gpuType": "T4",
      "provenance": []
    },
    "kernelspec": {
      "display_name": "Python 3",
      "name": "python3"
    },
    "language_info": {
      "name": "python"
    }
  },
  "nbformat": 4,
  "nbformat_minor": 0
}